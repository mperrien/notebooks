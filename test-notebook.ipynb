{
 "metadata": {
  "language_info": {
   "codemirror_mode": {
    "name": "ipython",
    "version": 3
   },
   "file_extension": ".py",
   "mimetype": "text/x-python",
   "name": "python",
   "nbconvert_exporter": "python",
   "pygments_lexer": "ipython3",
   "version": "3.7.8-final"
  },
  "orig_nbformat": 2,
  "kernelspec": {
   "name": "python_defaultSpec_1598348997920",
   "display_name": "Python 3.7.8 64-bit ('nb-three': virtualenv)"
  }
 },
 "nbformat": 4,
 "nbformat_minor": 2,
 "cells": [
  {
   "cell_type": "markdown",
   "metadata": {},
   "source": [
    "# Setting up Jupyter notebooks in a clean env in Vs code\n",
    "\n",
    "The Python plugin for VS Code includes support for [Juptyer notebooks]( https://code.visualstudio.com/docs/python/jupyter-support). When you work with Python in VS Code you need to select an Interpreter for Python within VS Code. If you are using a Virtual Environment within VS Code and it does not have the ```ipykernal``` installed you will be prompted to install it when you create or open a Jupyter notebook.\n",
    "\n",
    "Once you notebook is opened you can select and environment that is used by your notebook, in the top right handside of the notebook page. If you select an environment that does not ```ipykernal``` installed you will be prompted to instll it and it will be installed in the environment for your notebook. Once this has been instlled you can execute the code in you local environment or you can optional connect to a [remote server](https://code.visualstudio.com/docs/python/jupyter-support#_connect-to-a-remote-jupyter-server) to execute your notebook \n",
    "\n",
    "Having created a notebook and setup jupyter in you environment's you can now execute the code segements of you notebooks:\n",
    "\n"
   ]
  },
  {
   "cell_type": "code",
   "execution_count": 1,
   "metadata": {
    "tags": []
   },
   "outputs": [
    {
     "output_type": "stream",
     "name": "stdout",
     "text": "Hello, World!\n"
    }
   ],
   "source": [
    "msg = \"Hello, World!\"\n",
    "print (msg)"
   ]
  },
  {
   "cell_type": "code",
   "execution_count": null,
   "metadata": {},
   "outputs": [],
   "source": []
  },
  {
   "cell_type": "code",
   "execution_count": null,
   "metadata": {},
   "outputs": [],
   "source": [
    "## Install CHaos Toolkit in Jupyter notebook\n",
    "\n",
    "If you are adding external depedencies in your notebook you will have to add those depedencies to your notebook environment. Here you are going to use the [Chaos Toolkit](https://chaostoolkit.org/), it can be insalled into the notebook as shown:\n",
    "\n",
    "```\n",
    "%pip install chaostoolkit\n",
    "```\n"
   ]
  },
  {
   "cell_type": "code",
   "execution_count": 3,
   "metadata": {
    "tags": []
   },
   "outputs": [
    {
     "output_type": "stream",
     "name": "stdout",
     "text": "Collecting chaostoolkit\n  Using cached chaostoolkit-1.6.0-py3-none-any.whl (18 kB)\nCollecting click>=7.0\n  Using cached click-7.1.2-py2.py3-none-any.whl (82 kB)\nCollecting click-plugins>=1.0.4\n  Using cached click_plugins-1.1.1-py2.py3-none-any.whl (7.5 kB)\nCollecting logzero>=1.5.0\n  Using cached logzero-1.5.0-py2.py3-none-any.whl (14 kB)\nCollecting requests>=2.21\n  Using cached requests-2.24.0-py2.py3-none-any.whl (61 kB)\nProcessing /Users/grant/Library/Caches/pip/wheels/5e/03/1e/e1e954795d6f35dfc7b637fe2277bff021303bd9570ecea653/PyYAML-5.3.1-cp37-cp37m-macosx_10_14_x86_64.whl\nCollecting chaostoolkit-lib~=1.12\n  Using cached chaostoolkit_lib-1.12.0-py3-none-any.whl (49 kB)\nCollecting importlib-metadata>=1.2.0\n  Using cached importlib_metadata-1.7.0-py2.py3-none-any.whl (31 kB)\nProcessing /Users/grant/Library/Caches/pip/wheels/97/f7/a1/752e22bb30c1cfe38194ea0070a5c66e76ef4d06ad0c7dc401/python_json_logger-0.1.11-py2.py3-none-any.whl\nCollecting urllib3!=1.25.0,!=1.25.1,<1.26,>=1.21.1\n  Using cached urllib3-1.25.10-py2.py3-none-any.whl (127 kB)\nCollecting chardet<4,>=3.0.2\n  Using cached chardet-3.0.4-py2.py3-none-any.whl (133 kB)\nCollecting certifi>=2017.4.17\n  Using cached certifi-2020.6.20-py2.py3-none-any.whl (156 kB)\nCollecting idna<3,>=2.5\n  Using cached idna-2.10-py2.py3-none-any.whl (58 kB)\nCollecting zipp>=0.5\n  Using cached zipp-3.1.0-py3-none-any.whl (4.9 kB)\nInstalling collected packages: click, click-plugins, logzero, urllib3, chardet, certifi, idna, requests, PyYAML, zipp, importlib-metadata, chaostoolkit-lib, python-json-logger, chaostoolkit\nSuccessfully installed PyYAML-5.3.1 certifi-2020.6.20 chaostoolkit-1.6.0 chaostoolkit-lib-1.12.0 chardet-3.0.4 click-7.1.2 click-plugins-1.1.1 idna-2.10 importlib-metadata-1.7.0 logzero-1.5.0 python-json-logger-0.1.11 requests-2.24.0 urllib3-1.25.10 zipp-3.1.0\nNote: you may need to restart the kernel to use updated packages.\n"
    }
   ],
   "source": [
    "%pip install chaostoolkit"
   ]
  },
  {
   "cell_type": "markdown",
   "metadata": {
    "tags": []
   },
   "source": [
    "## Check Chaos command can be run in the notebook.\n",
    "\n",
    "To ensure the chaostoolkit has been installed and the  chaos commnd can be run in the notebook environment execute:\n"
   ]
  },
  {
   "cell_type": "code",
   "execution_count": 4,
   "metadata": {
    "tags": []
   },
   "outputs": [
    {
     "output_type": "stream",
     "name": "stdout",
     "text": "Usage: chaos [OPTIONS] COMMAND [ARGS]...\n\nOptions:\n  --version                   Show the version and exit.\n  --verbose                   Display debug level traces.\n  --no-version-check          Do not search for an updated version of the\n                              chaostoolkit.\n\n  --change-dir TEXT           Change directory before running experiment.\n  --no-log-file               Disable logging to file entirely.\n  --log-file TEXT             File path where to write the command's log.\n                              [default: chaostoolkit.log]\n\n  --log-format [string|json]  Console logging format: string, json.\n  --settings TEXT             Path to the settings file.  [default:\n                              /Users/grant/.chaostoolkit/settings.yaml]\n\n  --help                      Show this message and exit.\n\nCommands:\n  discover  Discover capabilities and experiments.\n  info      Display information about the Chaos Toolkit environment.\n  init      Initialize a new experiment from discovered capabilities.\n  run       Run the experiment loaded from SOURCE, either a local file or a...\n  settings  Read, write or remove from your settings file.\n  validate  Validate the experiment at SOURCE.\n"
    }
   ],
   "source": [
    "! chaos"
   ]
  },
  {
   "cell_type": "markdown",
   "metadata": {},
   "source": [
    "## Execute a first experiment with Chaos Toolkit in a Notebook\n",
    "\n",
    "The following is the a simple experiment that calls ou to a URL expecting an http success status as a result:\n",
    "\n",
    "```\n",
    "{\n",
    "  \"version\": \"1.0.0\",\n",
    "  \"title\": \"Checks the hypothesis that a URL responds with a 200 status\",\n",
    "  \"description\": \"Check a given url responds with a 200 status\",\n",
    "  \"tags\": [\n",
    "      \"platform:local\",\n",
    "      \"service:url\"\n",
    "  ],\n",
    "  \"contributions\": {\n",
    "      \"availability\": \"high\",\n",
    "      \"reliability\": \"none\",\n",
    "      \"safety\": \"none\",\n",
    "      \"security\": \"none\",\n",
    "      \"performability\": \"none\"\n",
    "  },\n",
    "  \"steady-state-hypothesis\": {\n",
    "      \"title\": \"Application is normal\",\n",
    "      \"probes\": [\n",
    "          {\n",
    "              \"type\": \"probe\",\n",
    "              \"name\": \"application-must-respond-normally\",\n",
    "              \"tolerance\": 200,\n",
    "              \"provider\": {\n",
    "                  \"type\": \"http\",\n",
    "                  \"url\": \"http://httpbin.org/status/200\",\n",
    "                  \"timeout\": 3\n",
    "              }\n",
    "          }\n",
    "      ]\n",
    "  },\n",
    "  \"method\": [],\n",
    "  \"rollbacks\": []\n",
    "}\n",
    "\n",
    "```\n",
    "\n",
    "The abiove is saved into the same directory as the notebook in a file called: ```experiment.json```, it can then be executed with the following command:\n",
    "\n",
    "```\n",
    "\n",
    "```"
   ]
  },
  {
   "cell_type": "code",
   "execution_count": 5,
   "metadata": {
    "tags": []
   },
   "outputs": [
    {
     "output_type": "stream",
     "name": "stdout",
     "text": "\u001b[32m[2020-08-25 11:42:37 INFO]\u001b[39m Validating the experiment's syntax\n\u001b[32m[2020-08-25 11:42:37 INFO]\u001b[39m Experiment looks valid\n\u001b[32m[2020-08-25 11:42:37 INFO]\u001b[39m Running experiment: Checks the hypothesis that a URL responds with a 200 status\n\u001b[32m[2020-08-25 11:42:37 INFO]\u001b[39m Steady state hypothesis: Application is normal\n\u001b[32m[2020-08-25 11:42:37 INFO]\u001b[39m Probe: application-must-respond-normally\n\u001b[32m[2020-08-25 11:42:37 INFO]\u001b[39m Steady state hypothesis is met!\n\u001b[32m[2020-08-25 11:42:37 INFO]\u001b[39m No declared activities, let's move on.\n\u001b[32m[2020-08-25 11:42:37 INFO]\u001b[39m Steady state hypothesis: Application is normal\n\u001b[32m[2020-08-25 11:42:37 INFO]\u001b[39m Probe: application-must-respond-normally\n\u001b[32m[2020-08-25 11:42:37 INFO]\u001b[39m Steady state hypothesis is met!\n\u001b[32m[2020-08-25 11:42:37 INFO]\u001b[39m Let's rollback...\n\u001b[32m[2020-08-25 11:42:37 INFO]\u001b[39m No declared rollbacks, let's move on.\n\u001b[32m[2020-08-25 11:42:37 INFO]\u001b[39m Experiment ended with status: completed\n"
    }
   ],
   "source": [
    " !chaos run experiment.json"
   ]
  },
  {
   "cell_type": "markdown",
   "metadata": {},
   "source": [
    "This will result is the output shown above plus the creation of the ```journal.json```  and ```chaostoolkit.log```.\n"
   ]
  }
 ]
}